{
  "cells": [
    {
      "cell_type": "markdown",
      "metadata": {
        "id": "jq-F_yHxeCy_"
      },
      "source": [
        "Objective: Find and extract data elements on a webpage and store the data into a dataset."
      ]
    },
    {
      "cell_type": "markdown",
      "metadata": {
        "id": "e_VZdkqpwDXh"
      },
      "source": [
        "# Theory\n",
        "\n",
        "1. We will need to install packages and libraries for `webdriver`\n",
        "2. We will then need to review the webpage's `HTML` structure and determine the path to obtain the data we want to scrape.\n",
        "3. Next, we will start scraping the data using Selenium and `pandas`.\n",
        "4. Lastly, we will output the processed data into a `csv` file.\n",
        "\n",
        "The `ipynb` below is run on [Google Colab](https://colab.research.google.com/) as the IDE contains multiple built-in libraries such as `pandas` and many more. It also runs on LinuxOS, which allows more functions that a WinOS user cannot work with.\n",
        "\n",
        "[Link to the Colab Notebook](https://colab.research.google.com/drive/1BepAnTQLjTfFHE4dRd84Wg9j1t_onEnc?usp=sharing)"
      ]
    },
    {
      "cell_type": "markdown",
      "metadata": {
        "id": "NHPeYH-weGdD"
      },
      "source": [
        "## Installing Package and Libraries for Web Driver"
      ]
    },
    {
      "cell_type": "code",
      "execution_count": null,
      "metadata": {
        "id": "qFmGF-OWXZ-t"
      },
      "outputs": [],
      "source": [
        "# Install the package.\n",
        "!pip install selenium\n",
        "\n",
        "# Import the required libraries.\n",
        "from selenium import webdriver\n",
        "from selenium.webdriver.common.keys import Keys\n",
        "from selenium.webdriver.common.by import By\n",
        "\n",
        "import pandas as pd\n",
        "\n",
        "# Install the chrome web driver from selenium. \n",
        "!apt-get update \n",
        "!apt install chromium-chromedriver\n",
        "\n",
        "chrome_options = webdriver.ChromeOptions()\n",
        "chrome_options.add_argument('--headless')\n",
        "chrome_options.add_argument('--no-sandbox')\n",
        "chrome_options.add_argument('--disable-dev-shm-usage')\n",
        "driver = webdriver.Chrome('chromedriver', chrome_options = chrome_options)"
      ]
    },
    {
      "cell_type": "markdown",
      "metadata": {
        "id": "yQylwFQVe2PF"
      },
      "source": [
        "The web driver is a key component of selenium. The web driver is a browser automation framework that works with open source APIs. The framework operates by accepting commands, sending those commands to a browser, and interacting with applications.\n",
        "\n",
        "Selenium supports multiple web browsers and offers web drivers for each browser. I have imported the chrome web driver from selenium. Alternatively, you can download the web driver for your specific browser and store it in a location where it can be easily accessed (C:\\users\\webdriver\\chromedriver.exe). You can download a web driver for your browser at [this site](https://selenium-python.readthedocs.io/installation.html#:~:text=Selenium%20requires%20a-,driver,-to%20interface%20with)."
      ]
    },
    {
      "cell_type": "markdown",
      "metadata": {
        "id": "D4Rihyelf6C9"
      },
      "source": [
        "## Overview of Selenium\n",
        "\n",
        "We need to review some basic information on Selenium. The `HTML` content of the webpages will be parsed and scraped using Selenium. \n",
        "\n",
        "Selenium is a **python library** that can scrape data on websites dynamically. It can also be used for web automation & testing. Scraping data from the web is only a small portion of the selenium library. \n",
        "\n",
        "Some of the features of Selenium include:\n",
        "\n",
        "* Multi-Browser Compatibility\n",
        "* Multiple Language Support\n",
        "* Handling of Dynamic Web Elements\n",
        "* Easy to Identify Web Elements\n",
        "* Speed and Performance\n",
        "* Open Source and Portable\n",
        "\n",
        "Learn more about Selenium at [here](https://selenium-python.readthedocs.io/).\n",
        "\n",
        "Selenium web driver offers a variety of locater functions to locate elements on the web page. For this project, we will be locating data elements using the `XPath` function. `XPath` is a language used for locating data values within `HTML` tags and attributes like `class`, `id`, and `name`.\n",
        "\n",
        "The syntax for the `XPath` function is shown below.\n",
        "\n",
        "```python\n",
        "Xpath = //tagname[@Attribute='Value']\n",
        "\n",
        "//        ➡ Select Current Node\n",
        "tagname   ➡ Tagname like div, td, tr\n",
        "@         ➡ Selects attribute\n",
        "Attribute ➡ Attribute name (class, id, name, etc)\n",
        "value     ➡ value of the attribute\n",
        "\n",
        "## Examples ##\n",
        "\n",
        "# This will return the HTML with tag div and class movie in a list.\n",
        "Xpath = //div[@class='movie']\n",
        "\n",
        "# This will return all the links with class drama inside the div tag that has a class of movie.\n",
        "Xpath = //div[@class='movie']/a[@class='drama']\n",
        "```\n",
        "\n",
        "```html\n",
        "<!--HTML looks like this:-->\n",
        "\n",
        "<div class='movie'>\n",
        "    <a class='drama' href='IMDB.com'> IMDB</a>\n",
        "</div>\n",
        "```\n",
        "\n",
        "After reviewing the Box Office Mojo webpage, let's extract the following data elements for each movie.\n",
        "\n",
        "* Rank\n",
        "* Title\n",
        "* Lifetime Gross\n",
        "* Year\n"
      ]
    },
    {
      "cell_type": "markdown",
      "metadata": {
        "id": "-mfIQ46IfLwS"
      },
      "source": [
        "## Review Web Page's HTML Structure\n",
        "\n",
        "We need to understand the structure and contents of the `HTML` tags within the web page. For this project, we will be using the [Box Office Mojo website](https://www.boxofficemojo.com/chart/top_lifetime_gross/?area=XWW) that contains the top 200 highest-grossing movies (shown below).\n",
        "\n",
        "![](https://miro.medium.com/max/700/1*WvbDq6TcWHwThMDTp1JbrQ.png)\n",
        "\n",
        "We can scrape this webpage by parsing the `HTML` of the page and extracting the information needed for our dataset. To scrape some data from this web page right-click anywhere on the web page, click the arrow icon on the upper left-hand side of the screen with the `HTML` and then click the Title name (Avatar) on the first line of the webpage. This will result in the following screen being displayed.\n",
        "\n",
        "![](https://miro.medium.com/max/700/1*fVsRbMa6kp5emjE1uvnQAg.png)\n",
        "\n",
        "On the `HTML` screen, you will see highlighted the `HTML` line for the title's name Avatar (shown below).\n",
        "\n",
        "```html\n",
        "<a class=\"a-link-normal\" href=\"/title/tt0499549/?ref_=bo_cso_table_1\">Avatar</a>\n",
        "```\n",
        "\n",
        "The `<a` is referred to as the tag and the class is `\"a-link-normal\"`. Avatar is the name of the movie that we want to extract.\n",
        "\n",
        "If you move up one line from this tag you will find the tag td with a class of `\"a-text-left mojo-field-type-title\"` (shown below). This is the parent of the `<a` tag with class `\"a-link-normal\"`.\n",
        "\n",
        "```html\n",
        "<td class=\"a-text-left mojo-field-type-title\" style=\"width: 616px; height: 34px; min-width: 616px; min-height: 34px;\">\n",
        "```\n",
        "\n",
        "So, if you wanted to find, extract and capture all the movie title names on the web page you would follow these steps.\n",
        "\n",
        "1. Find all the `HTML` lines for a specific parent (`td` tag with a class of \"a-text-left mojo-field-type-title\").\n",
        "2. Find all the `HTML` lines for (`a` tag with a class of \"a-link-normal\") within the parent in step 1.\n",
        "3. Extract the data elements and build a list containing the movie title names.\n",
        "\n",
        "The code for finding, extracting, and capturing movie title names is shown below."
      ]
    },
    {
      "cell_type": "markdown",
      "metadata": {
        "id": "iwd72KmKwGRY"
      },
      "source": [
        "# Performing Web Scrape\n",
        "\n",
        "Below are the steps to scrape the content from a website using Selenium's `driver` and converting contents into `csv` using `pandas`.\n",
        "\n",
        "In summary, the steps are:\n",
        "\n",
        "1. Get URL of the website.\n",
        "2. Extract content using Selenium's `driver.find_elements()` function\n",
        "3. Append and convert all elements converted by using `.text` into a list\n",
        "4. Combine all list into a list using `python`'s `zip()` function.\n",
        "5. Convert the 2D list into a `pandas` dataframe.\n",
        "6. Export the dataframe into a `csv` file for future use."
      ]
    },
    {
      "cell_type": "markdown",
      "metadata": {
        "id": "hGhMbqyDjEw4"
      },
      "source": [
        "## Find and Extract Data Elements\n",
        "\n",
        "For each of the data elements we want to extract, we will find all the `HTML` lines that are within a specific tag and class. We will then extract the data elements and store the data in a list.\n",
        "\n",
        "The `get` command launches the browser and opens the specified URL in your web driver."
      ]
    },
    {
      "cell_type": "code",
      "execution_count": 33,
      "metadata": {
        "id": "C3AEaxNMjMO6"
      },
      "outputs": [],
      "source": [
        "driver.get('https://www.boxofficemojo.com/chart/top_lifetime_gross/?area=XWW')"
      ]
    },
    {
      "cell_type": "markdown",
      "metadata": {
        "id": "Ty9KjV5cjU_U"
      },
      "source": [
        "1. Find, extract and capture **Movie Rankings** in a list:"
      ]
    },
    {
      "cell_type": "code",
      "execution_count": 34,
      "metadata": {
        "colab": {
          "base_uri": "https://localhost:8080/"
        },
        "id": "IACO0oOFjxXG",
        "outputId": "9d9e6f7e-ab68-4c46-8ed7-5be5ff406427"
      },
      "outputs": [
        {
          "name": "stdout",
          "output_type": "stream",
          "text": [
            "['1', '2', '3', '4', '5', '6', '7', '8', '9', '10', '11', '12', '13', '14', '15', '16', '17', '18', '19', '20', '21', '22', '23', '24', '25', '26', '27', '28', '29', '30', '31', '32', '33', '34', '35', '36', '37', '38', '39', '40', '41', '42', '43', '44', '45', '46', '47', '48', '49', '50', '51', '52', '53', '54', '55', '56', '57', '58', '59', '60', '61', '62', '63', '64', '65', '66', '67', '68', '69', '70', '71', '72', '73', '74', '75', '76', '77', '78', '79', '80', '81', '82', '83', '84', '85', '86', '87', '88', '89', '90', '91', '92', '93', '94', '95', '96', '97', '98', '99', '100', '101', '102', '103', '104', '105', '106', '107', '108', '109', '110', '111', '112', '113', '114', '115', '116', '117', '118', '119', '120', '121', '122', '123', '124', '125', '126', '127', '128', '129', '130', '131', '132', '133', '134', '135', '136', '137', '138', '139', '140', '141', '142', '143', '144', '145', '146', '147', '148', '149', '150', '151', '152', '153', '154', '155', '156', '157', '158', '159', '160', '161', '162', '163', '164', '165', '166', '167', '168', '169', '170', '171', '172', '173', '174', '175', '176', '177', '178', '179', '180', '181', '182', '183', '184', '185', '186', '187', '188', '189', '190', '191', '192', '193', '194', '195', '196', '197', '198', '199', '200']\n"
          ]
        }
      ],
      "source": [
        "# Get elements from HTML\n",
        "all_rankings = driver.find_elements(By.XPATH, \"(//td[@class = 'a-text-right mojo-header-column mojo-truncate mojo-field-type-rank'])\")\n",
        "\n",
        "# Create list\n",
        "movie_rank_list = []\n",
        "\n",
        "# Convert elements and save in list\n",
        "for ranking in all_rankings:\n",
        "  movie_rank_list.append(ranking.text)\n",
        "\n",
        "print(movie_rank_list)"
      ]
    },
    {
      "cell_type": "markdown",
      "metadata": {
        "id": "CzQhC7cvjcQ6"
      },
      "source": [
        "2. Find, extract and capture **Movie Titles** in a list:"
      ]
    },
    {
      "cell_type": "code",
      "execution_count": 35,
      "metadata": {
        "colab": {
          "base_uri": "https://localhost:8080/"
        },
        "id": "gWJMk667jxKW",
        "outputId": "abefefe3-5519-441b-e3d5-4355a4b1f365"
      },
      "outputs": [
        {
          "name": "stdout",
          "output_type": "stream",
          "text": [
            "['Avatar', 'Avengers: Endgame', 'Titanic', 'Star Wars: Episode VII - The Force Awakens', 'Avengers: Infinity War', 'Spider-Man: No Way Home', 'Jurassic World', 'The Lion King', 'The Avengers', 'Furious 7', 'Frozen II', 'Avengers: Age of Ultron', 'Black Panther', 'Harry Potter and the Deathly Hallows: Part 2', 'Star Wars: Episode VIII - The Last Jedi', 'Jurassic World: Fallen Kingdom', 'Frozen', 'Beauty and the Beast', 'Incredibles 2', 'The Fate of the Furious', 'Iron Man 3', 'Minions', 'Captain America: Civil War', 'Aquaman', 'The Lord of the Rings: The Return of the King', 'Spider-Man: Far from Home', 'Captain Marvel', 'Transformers: Dark of the Moon', 'Skyfall', 'Transformers: Age of Extinction', 'Jurassic Park', 'The Dark Knight Rises', 'Joker', 'Star Wars: Episode IX - The Rise of Skywalker', 'Toy Story 4', 'Toy Story 3', \"Pirates of the Caribbean: Dead Man's Chest\", 'The Lion King', 'Rogue One: A Star Wars Story', 'Aladdin', 'Pirates of the Caribbean: On Stranger Tides', 'Despicable Me 3', 'Finding Dory', 'Star Wars: Episode I - The Phantom Menace', 'Alice in Wonderland', 'Zootopia', \"Harry Potter and the Sorcerer's Stone\", 'The Hobbit: An Unexpected Journey', 'The Dark Knight', 'Harry Potter and the Deathly Hallows: Part 1', 'Despicable Me 2', 'The Jungle Book', 'Jumanji: Welcome to the Jungle', 'The Hobbit: The Battle of the Five Armies', \"Pirates of the Caribbean: At World's End\", 'The Hobbit: The Desolation of Smaug', 'The Lord of the Rings: The Two Towers', 'Harry Potter and the Order of the Phoenix', 'Finding Nemo', 'Harry Potter and the Half-Blood Prince', 'Shrek 2', 'Bohemian Rhapsody', 'The Battle at Lake Changjin', 'The Lord of the Rings: The Fellowship of the Ring', 'Harry Potter and the Goblet of Fire', 'Spider-Man 3', 'Ice Age 3: Dawn of the Dinosaurs', 'Doctor Strange in the Multiverse of Madness', 'Spectre', 'Spider-Man: Homecoming', 'Harry Potter and the Chamber of Secrets', 'Ice Age 4: Continental Drift', 'The Secret Life of Pets', 'Batman v Superman: Dawn of Justice', 'Wolf Warrior 2', 'Star Wars: Episode III - Revenge of the Sith', 'The Hunger Games: Catching Fire', 'Guardians of the Galaxy Vol. 2', 'Inside Out', 'Venom', 'Thor: Ragnarok', 'Inception', 'Transformers: Revenge of the Fallen', 'The Twilight Saga: Breaking Dawn - Part 2', 'Spider-Man', 'Wonder Woman', 'Hi, Mom', 'Independence Day', 'Fantastic Beasts and Where to Find Them', 'Shrek the Third', 'Coco', 'Jumanji: The Next Level', 'Harry Potter and the Prisoner of Azkaban', 'Pirates of the Caribbean: Dead Men Tell No Tales', 'E.T. the Extra-Terrestrial', 'Mission: Impossible - Fallout', '2012', 'Indiana Jones and the Kingdom of the Crystal Skull', 'Spider-Man 2', 'Fast & Furious 6', 'Deadpool 2', 'Deadpool', 'Star Wars', 'No Time to Die', 'Guardians of the Galaxy', 'The Batman', 'The Da Vinci Code', 'Fast & Furious Presents: Hobbs & Shaw', 'Maleficent', 'The Amazing Spider-Man', 'The Hunger Games: Mockingjay - Part 1', 'Shrek Forever After', \"Madagascar 3: Europe's Most Wanted\", 'Suicide Squad', 'X-Men: Days of Future Past', 'The Chronicles of Narnia: The Lion, the Witch and the Wardrobe', 'Monsters University', 'The Matrix Reloaded', 'Up', 'Ne Zha', 'F9: The Fast Saga', 'Gravity', 'Captain America: The Winter Soldier', 'The Twilight Saga: Breaking Dawn - Part 1', 'The Twilight Saga: New Moon', 'Dawn of the Planet of the Apes', 'Transformers', 'The Amazing Spider-Man 2', 'It', 'Interstellar', 'The Wandering Earth', 'The Twilight Saga: Eclipse', 'Mission: Impossible - Ghost Protocol', 'The Hunger Games', 'Detective Chinatown 3', 'Mission: Impossible - Rogue Nation', 'Forrest Gump', 'Doctor Strange', 'The Sixth Sense', 'Man of Steel', 'Ice Age 2: The Meltdown', 'Kung Fu Panda 2', 'Justice League', 'Big Hero 6', 'Fantastic Beasts: The Crimes of Grindelwald', 'Pirates of the Caribbean: The Curse of the Black Pearl', 'Star Wars: Episode II - Attack of the Clones', 'The Hunger Games: Mockingjay - Part 2', 'Thor: The Dark World', 'Moana', 'Sing', 'Kung Fu Panda', 'The Incredibles', 'The Martian', 'Hancock', 'Water Gate Bridge', 'Fast Five', 'Men in Black 3', 'Iron Man 2', 'Ratatouille', 'Ant-Man and the Wasp', 'How to Train Your Dragon 2', 'Logan', 'The Lost World: Jurassic Park', 'Casino Royale', 'The Passion of the Christ', 'Mamma Mia!', 'Life of Pi', 'Transformers: The Last Knight', 'Madagascar: Escape 2 Africa', 'War of the Worlds', 'Tangled', 'Quantum of Solace', 'Men in Black', 'The Croods', 'The Hangover Part II', 'Iron Man', 'I Am Legend', 'Ready Player One', 'Monsters, Inc.', 'Operation Red Sea', 'Night at the Museum', 'Fifty Shades of Grey', 'Kong: Skull Island', 'The Smurfs', 'Cars 2', 'King Kong', 'Puss in Boots', 'The Mermaid', 'Armageddon', 'The Day After Tomorrow', 'Ted', 'American Sniper', 'Mission: Impossible II', 'Detective Chinatown 2', 'X-Men: Apocalypse', 'Sherlock Holmes: A Game of Shadows', 'Despicable Me', 'Cinderella', 'Madagascar']\n"
          ]
        }
      ],
      "source": [
        "# Get elements from HTML\n",
        "all_titles = driver.find_elements(By.XPATH, \"(//td[@class = 'a-text-left mojo-field-type-title'])/a[@class = 'a-link-normal']\")\n",
        "\n",
        "# Create list\n",
        "movie_title_list = []\n",
        "\n",
        "# Convert elements and save in list\n",
        "for title in all_titles:\n",
        "  movie_title_list.append(title.text)\n",
        "\n",
        "print(movie_title_list)"
      ]
    },
    {
      "cell_type": "markdown",
      "metadata": {
        "id": "P3S8RGK0josU"
      },
      "source": [
        "3. Find, extract and capture **Movie Release Years** in a list:"
      ]
    },
    {
      "cell_type": "code",
      "execution_count": 36,
      "metadata": {
        "colab": {
          "base_uri": "https://localhost:8080/"
        },
        "id": "pVQ5zryij0eZ",
        "outputId": "94fbc286-9ec9-459a-fbd0-78956ab9d423"
      },
      "outputs": [
        {
          "name": "stdout",
          "output_type": "stream",
          "text": [
            "['2009', '2019', '1997', '2015', '2018', '2021', '2015', '2019', '2012', '2015', '2019', '2015', '2018', '2011', '2017', '2018', '2013', '2017', '2018', '2017', '2013', '2015', '2016', '2018', '2003', '2019', '2019', '2011', '2012', '2014', '1993', '2012', '2019', '2019', '2019', '2010', '2006', '1994', '2016', '2019', '2011', '2017', '2016', '1999', '2010', '2016', '2001', '2012', '2008', '2010', '2013', '2016', '2017', '2014', '2007', '2013', '2002', '2007', '2003', '2009', '2004', '2018', '2021', '2001', '2005', '2007', '2009', '2022', '2015', '2017', '2002', '2012', '2016', '2016', '2017', '2005', '2013', '2017', '2015', '2018', '2017', '2010', '2009', '2012', '2002', '2017', '2021', '1996', '2016', '2007', '2017', '2019', '2004', '2017', '1982', '2018', '2009', '2008', '2004', '2013', '2018', '2016', '1977', '2021', '2014', '2022', '2006', '2019', '2014', '2012', '2014', '2010', '2012', '2016', '2014', '2005', '2013', '2003', '2009', '2019', '2021', '2013', '2014', '2011', '2009', '2014', '2007', '2014', '2017', '2014', '2019', '2010', '2011', '2012', '2021', '2015', '1994', '2016', '1999', '2013', '2006', '2011', '2017', '2014', '2018', '2003', '2002', '2015', '2013', '2016', '2016', '2008', '2004', '2015', '2008', '2022', '2011', '2012', '2010', '2007', '2018', '2014', '2017', '1997', '2006', '2004', '2008', '2012', '2017', '2008', '2005', '2010', '2008', '1997', '2013', '2011', '2008', '2007', '2018', '2001', '2018', '2006', '2015', '2017', '2011', '2011', '2005', '2011', '2016', '1998', '2004', '2012', '2014', '2000', '2018', '2016', '2011', '2010', '2015', '2005']\n"
          ]
        }
      ],
      "source": [
        "# Get elements from HTML\n",
        "all_releaseyrs = driver.find_elements(By.XPATH, \"(//td[@class = 'a-text-left mojo-field-type-year']/a[@class = 'a-link-normal'])\")\n",
        "\n",
        "# Create list\n",
        "movie_release_years = []\n",
        "\n",
        "# Convert elements and save in list\n",
        "for year in all_releaseyrs:\n",
        "  movie_release_years.append(year.text)\n",
        "\n",
        "print(movie_release_years)"
      ]
    },
    {
      "cell_type": "markdown",
      "metadata": {
        "id": "3bX7YQABjsyM"
      },
      "source": [
        "4. Find, extract and capture **Lifetime Gross Earnings** in a list:"
      ]
    },
    {
      "cell_type": "code",
      "execution_count": 37,
      "metadata": {
        "colab": {
          "base_uri": "https://localhost:8080/"
        },
        "id": "KEK7kJBHj06d",
        "outputId": "a7512c5a-22d4-4930-cfc6-37aa14e7b4e8"
      },
      "outputs": [
        {
          "name": "stdout",
          "output_type": "stream",
          "text": [
            "['$2,847,397,339', '$2,797,501,328', '$2,201,647,264', '$2,069,521,700', '$2,048,359,754', '$1,892,761,122', '$1,671,537,444', '$1,662,899,439', '$1,518,815,515', '$1,515,341,399', '$1,450,026,933', '$1,402,809,540', '$1,347,597,973', '$1,342,359,942', '$1,332,698,830', '$1,310,466,296', '$1,281,508,100', '$1,273,576,220', '$1,243,089,244', '$1,236,005,118', '$1,214,811,252', '$1,159,444,662', '$1,153,337,496', '$1,148,528,393', '$1,146,436,214', '$1,131,927,996', '$1,128,462,972', '$1,123,794,079', '$1,108,569,499', '$1,104,054,072', '$1,099,699,003', '$1,081,153,097', '$1,074,445,730', '$1,074,149,279', '$1,073,394,593', '$1,066,970,811', '$1,066,179,747', '$1,063,611,805', '$1,056,057,720', '$1,050,693,953', '$1,045,713,802', '$1,034,800,131', '$1,028,570,942', '$1,027,082,707', '$1,025,468,216', '$1,024,121,104', '$1,017,879,803', '$1,017,030,651', '$1,006,102,277', '$977,070,383', '$970,766,005', '$966,554,929', '$962,542,945', '$962,201,338', '$960,996,492', '$959,027,992', '$947,896,241', '$942,201,710', '$940,352,645', '$934,483,039', '$928,760,770', '$910,809,311', '$902,540,935', '$898,094,742', '$896,730,264', '$894,983,373', '$886,686,817', '$885,015,417', '$880,681,519', '$880,166,924', '$879,793,867', '$877,244,782', '$875,458,631', '$873,637,528', '$870,325,439', '$868,390,560', '$865,011,746', '$863,756,051', '$858,848,019', '$856,085,151', '$853,983,879', '$836,848,102', '$836,303,693', '$829,747,654', '$825,025,036', '$822,854,286', '$822,009,764', '$817,400,891', '$814,044,001', '$813,367,380', '$807,817,888', '$800,059,707', '$797,491,273', '$794,881,442', '$792,910,554', '$791,657,398', '$791,217,826', '$790,653,942', '$788,976,453', '$788,680,968', '$785,896,609', '$782,836,791', '$775,398,007', '$774,153,007', '$773,350,147', '$770,337,628', '$760,006,945', '$759,056,935', '$758,411,779', '$757,930,663', '$755,356,711', '$752,600,867', '$746,921,274', '$746,846,894', '$746,045,700', '$745,013,115', '$743,559,645', '$741,847,937', '$735,099,102', '$726,264,074', '$726,229,501', '$723,192,705', '$714,421,503', '$712,205,856', '$711,025,481', '$710,644,566', '$709,709,780', '$708,982,323', '$701,842,551', '$701,729,206', '$699,992,512', '$698,491,347', '$694,713,380', '$694,394,724', '$686,257,563', '$682,716,636', '$678,226,133', '$677,796,076', '$672,806,432', '$668,045,518', '$667,094,506', '$665,692,281', '$657,926,987', '$657,869,686', '$654,855,901', '$654,264,015', '$653,779,970', '$653,428,261', '$644,783,140', '$643,668,897', '$634,338,384', '$632,083,197', '$631,607,053', '$630,620,818', '$629,443,428', '$626,571,280', '$626,137,675', '$624,026,776', '$623,933,331', '$623,726,085', '$622,674,139', '$621,537,519', '$619,179,950', '$618,638,999', '$616,502,912', '$612,054,506', '$611,257,819', '$609,016,565', '$605,425,157', '$603,900,354', '$603,873,119', '$592,462,816', '$589,580,482', '$589,390,539', '$587,235,983', '$586,764,305', '$585,796,247', '$585,410,052', '$582,918,849', '$579,707,738', '$579,330,426', '$574,481,229', '$569,651,467', '$566,652,812', '$563,749,323', '$559,852,396', '$556,906,378', '$554,987,477', '$553,810,228', '$553,709,788', '$552,639,571', '$549,368,315', '$547,459,020', '$546,388,108', '$544,185,156', '$543,934,105', '$543,848,418', '$543,157,985', '$542,358,331', '$542,063,846']\n"
          ]
        }
      ],
      "source": [
        "# Get elements from HTML\n",
        "all_earnings = driver.find_elements(By.XPATH, \"(//td[@class = 'a-text-right mojo-field-type-money'])\")\n",
        "\n",
        "# Create list\n",
        "movie_lifetime_gross_earnings = []\n",
        "\n",
        "# Convert elements and save in list\n",
        "for earning in all_earnings:\n",
        "  movie_lifetime_gross_earnings.append(earning.text)\n",
        "\n",
        "print(movie_lifetime_gross_earnings)"
      ]
    },
    {
      "cell_type": "markdown",
      "metadata": {
        "id": "PGCsfdxon2j9"
      },
      "source": [
        "## Create and Display Data Frame\n",
        "\n",
        "We will use `zip()` function to merge all lists into a single list, a 2D list is created.\n",
        "\n",
        "More info on `zip()` can be found [here](https://www.w3schools.com/python/ref_func_zip.asp)."
      ]
    },
    {
      "cell_type": "code",
      "execution_count": 38,
      "metadata": {
        "colab": {
          "base_uri": "https://localhost:8080/",
          "height": 363
        },
        "id": "pPKgjNPvoxi1",
        "outputId": "df6ccde8-c910-4fc4-97bc-7a1fd2e02afd"
      },
      "outputs": [
        {
          "data": {
            "text/html": [
              "\n",
              "  <div id=\"df-f7eab6e9-0f21-4e0a-a629-328ebe301602\">\n",
              "    <div class=\"colab-df-container\">\n",
              "      <div>\n",
              "<style scoped>\n",
              "    .dataframe tbody tr th:only-of-type {\n",
              "        vertical-align: middle;\n",
              "    }\n",
              "\n",
              "    .dataframe tbody tr th {\n",
              "        vertical-align: top;\n",
              "    }\n",
              "\n",
              "    .dataframe thead th {\n",
              "        text-align: right;\n",
              "    }\n",
              "</style>\n",
              "<table border=\"1\" class=\"dataframe\">\n",
              "  <thead>\n",
              "    <tr style=\"text-align: right;\">\n",
              "      <th></th>\n",
              "      <th>Rank</th>\n",
              "      <th>Movie Name</th>\n",
              "      <th>Release Date</th>\n",
              "      <th>Lifetime Earnings</th>\n",
              "    </tr>\n",
              "  </thead>\n",
              "  <tbody>\n",
              "    <tr>\n",
              "      <th>0</th>\n",
              "      <td>1</td>\n",
              "      <td>Avatar</td>\n",
              "      <td>2009</td>\n",
              "      <td>$2,847,397,339</td>\n",
              "    </tr>\n",
              "    <tr>\n",
              "      <th>1</th>\n",
              "      <td>2</td>\n",
              "      <td>Avengers: Endgame</td>\n",
              "      <td>2019</td>\n",
              "      <td>$2,797,501,328</td>\n",
              "    </tr>\n",
              "    <tr>\n",
              "      <th>2</th>\n",
              "      <td>3</td>\n",
              "      <td>Titanic</td>\n",
              "      <td>1997</td>\n",
              "      <td>$2,201,647,264</td>\n",
              "    </tr>\n",
              "    <tr>\n",
              "      <th>3</th>\n",
              "      <td>4</td>\n",
              "      <td>Star Wars: Episode VII - The Force Awakens</td>\n",
              "      <td>2015</td>\n",
              "      <td>$2,069,521,700</td>\n",
              "    </tr>\n",
              "    <tr>\n",
              "      <th>4</th>\n",
              "      <td>5</td>\n",
              "      <td>Avengers: Infinity War</td>\n",
              "      <td>2018</td>\n",
              "      <td>$2,048,359,754</td>\n",
              "    </tr>\n",
              "    <tr>\n",
              "      <th>5</th>\n",
              "      <td>6</td>\n",
              "      <td>Spider-Man: No Way Home</td>\n",
              "      <td>2021</td>\n",
              "      <td>$1,892,761,122</td>\n",
              "    </tr>\n",
              "    <tr>\n",
              "      <th>6</th>\n",
              "      <td>7</td>\n",
              "      <td>Jurassic World</td>\n",
              "      <td>2015</td>\n",
              "      <td>$1,671,537,444</td>\n",
              "    </tr>\n",
              "    <tr>\n",
              "      <th>7</th>\n",
              "      <td>8</td>\n",
              "      <td>The Lion King</td>\n",
              "      <td>2019</td>\n",
              "      <td>$1,662,899,439</td>\n",
              "    </tr>\n",
              "    <tr>\n",
              "      <th>8</th>\n",
              "      <td>9</td>\n",
              "      <td>The Avengers</td>\n",
              "      <td>2012</td>\n",
              "      <td>$1,518,815,515</td>\n",
              "    </tr>\n",
              "    <tr>\n",
              "      <th>9</th>\n",
              "      <td>10</td>\n",
              "      <td>Furious 7</td>\n",
              "      <td>2015</td>\n",
              "      <td>$1,515,341,399</td>\n",
              "    </tr>\n",
              "  </tbody>\n",
              "</table>\n",
              "</div>\n",
              "      <button class=\"colab-df-convert\" onclick=\"convertToInteractive('df-f7eab6e9-0f21-4e0a-a629-328ebe301602')\"\n",
              "              title=\"Convert this dataframe to an interactive table.\"\n",
              "              style=\"display:none;\">\n",
              "        \n",
              "  <svg xmlns=\"http://www.w3.org/2000/svg\" height=\"24px\"viewBox=\"0 0 24 24\"\n",
              "       width=\"24px\">\n",
              "    <path d=\"M0 0h24v24H0V0z\" fill=\"none\"/>\n",
              "    <path d=\"M18.56 5.44l.94 2.06.94-2.06 2.06-.94-2.06-.94-.94-2.06-.94 2.06-2.06.94zm-11 1L8.5 8.5l.94-2.06 2.06-.94-2.06-.94L8.5 2.5l-.94 2.06-2.06.94zm10 10l.94 2.06.94-2.06 2.06-.94-2.06-.94-.94-2.06-.94 2.06-2.06.94z\"/><path d=\"M17.41 7.96l-1.37-1.37c-.4-.4-.92-.59-1.43-.59-.52 0-1.04.2-1.43.59L10.3 9.45l-7.72 7.72c-.78.78-.78 2.05 0 2.83L4 21.41c.39.39.9.59 1.41.59.51 0 1.02-.2 1.41-.59l7.78-7.78 2.81-2.81c.8-.78.8-2.07 0-2.86zM5.41 20L4 18.59l7.72-7.72 1.47 1.35L5.41 20z\"/>\n",
              "  </svg>\n",
              "      </button>\n",
              "      \n",
              "  <style>\n",
              "    .colab-df-container {\n",
              "      display:flex;\n",
              "      flex-wrap:wrap;\n",
              "      gap: 12px;\n",
              "    }\n",
              "\n",
              "    .colab-df-convert {\n",
              "      background-color: #E8F0FE;\n",
              "      border: none;\n",
              "      border-radius: 50%;\n",
              "      cursor: pointer;\n",
              "      display: none;\n",
              "      fill: #1967D2;\n",
              "      height: 32px;\n",
              "      padding: 0 0 0 0;\n",
              "      width: 32px;\n",
              "    }\n",
              "\n",
              "    .colab-df-convert:hover {\n",
              "      background-color: #E2EBFA;\n",
              "      box-shadow: 0px 1px 2px rgba(60, 64, 67, 0.3), 0px 1px 3px 1px rgba(60, 64, 67, 0.15);\n",
              "      fill: #174EA6;\n",
              "    }\n",
              "\n",
              "    [theme=dark] .colab-df-convert {\n",
              "      background-color: #3B4455;\n",
              "      fill: #D2E3FC;\n",
              "    }\n",
              "\n",
              "    [theme=dark] .colab-df-convert:hover {\n",
              "      background-color: #434B5C;\n",
              "      box-shadow: 0px 1px 3px 1px rgba(0, 0, 0, 0.15);\n",
              "      filter: drop-shadow(0px 1px 2px rgba(0, 0, 0, 0.3));\n",
              "      fill: #FFFFFF;\n",
              "    }\n",
              "  </style>\n",
              "\n",
              "      <script>\n",
              "        const buttonEl =\n",
              "          document.querySelector('#df-f7eab6e9-0f21-4e0a-a629-328ebe301602 button.colab-df-convert');\n",
              "        buttonEl.style.display =\n",
              "          google.colab.kernel.accessAllowed ? 'block' : 'none';\n",
              "\n",
              "        async function convertToInteractive(key) {\n",
              "          const element = document.querySelector('#df-f7eab6e9-0f21-4e0a-a629-328ebe301602');\n",
              "          const dataTable =\n",
              "            await google.colab.kernel.invokeFunction('convertToInteractive',\n",
              "                                                     [key], {});\n",
              "          if (!dataTable) return;\n",
              "\n",
              "          const docLinkHtml = 'Like what you see? Visit the ' +\n",
              "            '<a target=\"_blank\" href=https://colab.research.google.com/notebooks/data_table.ipynb>data table notebook</a>'\n",
              "            + ' to learn more about interactive tables.';\n",
              "          element.innerHTML = '';\n",
              "          dataTable['output_type'] = 'display_data';\n",
              "          await google.colab.output.renderOutput(dataTable, element);\n",
              "          const docLink = document.createElement('div');\n",
              "          docLink.innerHTML = docLinkHtml;\n",
              "          element.appendChild(docLink);\n",
              "        }\n",
              "      </script>\n",
              "    </div>\n",
              "  </div>\n",
              "  "
            ],
            "text/plain": [
              "  Rank                                  Movie Name Release Date  \\\n",
              "0    1                                      Avatar         2009   \n",
              "1    2                           Avengers: Endgame         2019   \n",
              "2    3                                     Titanic         1997   \n",
              "3    4  Star Wars: Episode VII - The Force Awakens         2015   \n",
              "4    5                      Avengers: Infinity War         2018   \n",
              "5    6                     Spider-Man: No Way Home         2021   \n",
              "6    7                              Jurassic World         2015   \n",
              "7    8                               The Lion King         2019   \n",
              "8    9                                The Avengers         2012   \n",
              "9   10                                   Furious 7         2015   \n",
              "\n",
              "  Lifetime Earnings  \n",
              "0    $2,847,397,339  \n",
              "1    $2,797,501,328  \n",
              "2    $2,201,647,264  \n",
              "3    $2,069,521,700  \n",
              "4    $2,048,359,754  \n",
              "5    $1,892,761,122  \n",
              "6    $1,671,537,444  \n",
              "7    $1,662,899,439  \n",
              "8    $1,518,815,515  \n",
              "9    $1,515,341,399  "
            ]
          },
          "execution_count": 38,
          "metadata": {},
          "output_type": "execute_result"
        }
      ],
      "source": [
        "# Combine Lists\n",
        "data = list(zip(movie_rank_list, movie_title_list, movie_release_years, movie_lifetime_gross_earnings))\n",
        "\n",
        "# Create the Data Frame\n",
        "df = pd.DataFrame(data, columns=['Rank', 'Movie Name', 'Release Date','Lifetime Earnings'])\n",
        "\n",
        "# Prints the Data Frame\n",
        "df.head(10)"
      ]
    },
    {
      "cell_type": "markdown",
      "metadata": {
        "id": "HXOmLDmNqRnV"
      },
      "source": [
        "## Convert Data Frame to `csv` File\n",
        "\n",
        "If needed, we can create a `csv` file from the data frame that was created in the previous step."
      ]
    },
    {
      "cell_type": "code",
      "execution_count": 50,
      "metadata": {
        "id": "VpR752nmrCWM"
      },
      "outputs": [],
      "source": [
        "df.to_csv('Top_200_Movies_with_Lifetime_Gross.csv', index = False)"
      ]
    },
    {
      "cell_type": "markdown",
      "metadata": {
        "id": "1zDiqUbHtzin"
      },
      "source": [
        "We can also read the `csv` file using `pandaS`."
      ]
    },
    {
      "cell_type": "code",
      "execution_count": 52,
      "metadata": {
        "colab": {
          "base_uri": "https://localhost:8080/",
          "height": 455
        },
        "id": "CvuamA4vt5Mc",
        "outputId": "3a27cc66-4da3-42c9-cfc8-471a5a471ac3"
      },
      "outputs": [
        {
          "data": {
            "text/html": [
              "\n",
              "  <div id=\"df-e3e147bd-d517-4bf6-8b7b-d5624777e1fd\">\n",
              "    <div class=\"colab-df-container\">\n",
              "      <div>\n",
              "<style scoped>\n",
              "    .dataframe tbody tr th:only-of-type {\n",
              "        vertical-align: middle;\n",
              "    }\n",
              "\n",
              "    .dataframe tbody tr th {\n",
              "        vertical-align: top;\n",
              "    }\n",
              "\n",
              "    .dataframe thead th {\n",
              "        text-align: right;\n",
              "    }\n",
              "</style>\n",
              "<table border=\"1\" class=\"dataframe\">\n",
              "  <thead>\n",
              "    <tr style=\"text-align: right;\">\n",
              "      <th></th>\n",
              "      <th>Movie Name</th>\n",
              "      <th>Release Date</th>\n",
              "      <th>Lifetime Earnings</th>\n",
              "    </tr>\n",
              "    <tr>\n",
              "      <th>Rank</th>\n",
              "      <th></th>\n",
              "      <th></th>\n",
              "      <th></th>\n",
              "    </tr>\n",
              "  </thead>\n",
              "  <tbody>\n",
              "    <tr>\n",
              "      <th>1</th>\n",
              "      <td>Avatar</td>\n",
              "      <td>2009</td>\n",
              "      <td>$2,847,397,339</td>\n",
              "    </tr>\n",
              "    <tr>\n",
              "      <th>2</th>\n",
              "      <td>Avengers: Endgame</td>\n",
              "      <td>2019</td>\n",
              "      <td>$2,797,501,328</td>\n",
              "    </tr>\n",
              "    <tr>\n",
              "      <th>3</th>\n",
              "      <td>Titanic</td>\n",
              "      <td>1997</td>\n",
              "      <td>$2,201,647,264</td>\n",
              "    </tr>\n",
              "    <tr>\n",
              "      <th>4</th>\n",
              "      <td>Star Wars: Episode VII - The Force Awakens</td>\n",
              "      <td>2015</td>\n",
              "      <td>$2,069,521,700</td>\n",
              "    </tr>\n",
              "    <tr>\n",
              "      <th>5</th>\n",
              "      <td>Avengers: Infinity War</td>\n",
              "      <td>2018</td>\n",
              "      <td>$2,048,359,754</td>\n",
              "    </tr>\n",
              "    <tr>\n",
              "      <th>...</th>\n",
              "      <td>...</td>\n",
              "      <td>...</td>\n",
              "      <td>...</td>\n",
              "    </tr>\n",
              "    <tr>\n",
              "      <th>196</th>\n",
              "      <td>X-Men: Apocalypse</td>\n",
              "      <td>2016</td>\n",
              "      <td>$543,934,105</td>\n",
              "    </tr>\n",
              "    <tr>\n",
              "      <th>197</th>\n",
              "      <td>Sherlock Holmes: A Game of Shadows</td>\n",
              "      <td>2011</td>\n",
              "      <td>$543,848,418</td>\n",
              "    </tr>\n",
              "    <tr>\n",
              "      <th>198</th>\n",
              "      <td>Despicable Me</td>\n",
              "      <td>2010</td>\n",
              "      <td>$543,157,985</td>\n",
              "    </tr>\n",
              "    <tr>\n",
              "      <th>199</th>\n",
              "      <td>Cinderella</td>\n",
              "      <td>2015</td>\n",
              "      <td>$542,358,331</td>\n",
              "    </tr>\n",
              "    <tr>\n",
              "      <th>200</th>\n",
              "      <td>Madagascar</td>\n",
              "      <td>2005</td>\n",
              "      <td>$542,063,846</td>\n",
              "    </tr>\n",
              "  </tbody>\n",
              "</table>\n",
              "<p>200 rows × 3 columns</p>\n",
              "</div>\n",
              "      <button class=\"colab-df-convert\" onclick=\"convertToInteractive('df-e3e147bd-d517-4bf6-8b7b-d5624777e1fd')\"\n",
              "              title=\"Convert this dataframe to an interactive table.\"\n",
              "              style=\"display:none;\">\n",
              "        \n",
              "  <svg xmlns=\"http://www.w3.org/2000/svg\" height=\"24px\"viewBox=\"0 0 24 24\"\n",
              "       width=\"24px\">\n",
              "    <path d=\"M0 0h24v24H0V0z\" fill=\"none\"/>\n",
              "    <path d=\"M18.56 5.44l.94 2.06.94-2.06 2.06-.94-2.06-.94-.94-2.06-.94 2.06-2.06.94zm-11 1L8.5 8.5l.94-2.06 2.06-.94-2.06-.94L8.5 2.5l-.94 2.06-2.06.94zm10 10l.94 2.06.94-2.06 2.06-.94-2.06-.94-.94-2.06-.94 2.06-2.06.94z\"/><path d=\"M17.41 7.96l-1.37-1.37c-.4-.4-.92-.59-1.43-.59-.52 0-1.04.2-1.43.59L10.3 9.45l-7.72 7.72c-.78.78-.78 2.05 0 2.83L4 21.41c.39.39.9.59 1.41.59.51 0 1.02-.2 1.41-.59l7.78-7.78 2.81-2.81c.8-.78.8-2.07 0-2.86zM5.41 20L4 18.59l7.72-7.72 1.47 1.35L5.41 20z\"/>\n",
              "  </svg>\n",
              "      </button>\n",
              "      \n",
              "  <style>\n",
              "    .colab-df-container {\n",
              "      display:flex;\n",
              "      flex-wrap:wrap;\n",
              "      gap: 12px;\n",
              "    }\n",
              "\n",
              "    .colab-df-convert {\n",
              "      background-color: #E8F0FE;\n",
              "      border: none;\n",
              "      border-radius: 50%;\n",
              "      cursor: pointer;\n",
              "      display: none;\n",
              "      fill: #1967D2;\n",
              "      height: 32px;\n",
              "      padding: 0 0 0 0;\n",
              "      width: 32px;\n",
              "    }\n",
              "\n",
              "    .colab-df-convert:hover {\n",
              "      background-color: #E2EBFA;\n",
              "      box-shadow: 0px 1px 2px rgba(60, 64, 67, 0.3), 0px 1px 3px 1px rgba(60, 64, 67, 0.15);\n",
              "      fill: #174EA6;\n",
              "    }\n",
              "\n",
              "    [theme=dark] .colab-df-convert {\n",
              "      background-color: #3B4455;\n",
              "      fill: #D2E3FC;\n",
              "    }\n",
              "\n",
              "    [theme=dark] .colab-df-convert:hover {\n",
              "      background-color: #434B5C;\n",
              "      box-shadow: 0px 1px 3px 1px rgba(0, 0, 0, 0.15);\n",
              "      filter: drop-shadow(0px 1px 2px rgba(0, 0, 0, 0.3));\n",
              "      fill: #FFFFFF;\n",
              "    }\n",
              "  </style>\n",
              "\n",
              "      <script>\n",
              "        const buttonEl =\n",
              "          document.querySelector('#df-e3e147bd-d517-4bf6-8b7b-d5624777e1fd button.colab-df-convert');\n",
              "        buttonEl.style.display =\n",
              "          google.colab.kernel.accessAllowed ? 'block' : 'none';\n",
              "\n",
              "        async function convertToInteractive(key) {\n",
              "          const element = document.querySelector('#df-e3e147bd-d517-4bf6-8b7b-d5624777e1fd');\n",
              "          const dataTable =\n",
              "            await google.colab.kernel.invokeFunction('convertToInteractive',\n",
              "                                                     [key], {});\n",
              "          if (!dataTable) return;\n",
              "\n",
              "          const docLinkHtml = 'Like what you see? Visit the ' +\n",
              "            '<a target=\"_blank\" href=https://colab.research.google.com/notebooks/data_table.ipynb>data table notebook</a>'\n",
              "            + ' to learn more about interactive tables.';\n",
              "          element.innerHTML = '';\n",
              "          dataTable['output_type'] = 'display_data';\n",
              "          await google.colab.output.renderOutput(dataTable, element);\n",
              "          const docLink = document.createElement('div');\n",
              "          docLink.innerHTML = docLinkHtml;\n",
              "          element.appendChild(docLink);\n",
              "        }\n",
              "      </script>\n",
              "    </div>\n",
              "  </div>\n",
              "  "
            ],
            "text/plain": [
              "                                      Movie Name  Release Date  \\\n",
              "Rank                                                             \n",
              "1                                         Avatar          2009   \n",
              "2                              Avengers: Endgame          2019   \n",
              "3                                        Titanic          1997   \n",
              "4     Star Wars: Episode VII - The Force Awakens          2015   \n",
              "5                         Avengers: Infinity War          2018   \n",
              "...                                          ...           ...   \n",
              "196                            X-Men: Apocalypse          2016   \n",
              "197           Sherlock Holmes: A Game of Shadows          2011   \n",
              "198                                Despicable Me          2010   \n",
              "199                                   Cinderella          2015   \n",
              "200                                   Madagascar          2005   \n",
              "\n",
              "     Lifetime Earnings  \n",
              "Rank                    \n",
              "1       $2,847,397,339  \n",
              "2       $2,797,501,328  \n",
              "3       $2,201,647,264  \n",
              "4       $2,069,521,700  \n",
              "5       $2,048,359,754  \n",
              "...                ...  \n",
              "196       $543,934,105  \n",
              "197       $543,848,418  \n",
              "198       $543,157,985  \n",
              "199       $542,358,331  \n",
              "200       $542,063,846  \n",
              "\n",
              "[200 rows x 3 columns]"
            ]
          },
          "execution_count": 52,
          "metadata": {},
          "output_type": "execute_result"
        }
      ],
      "source": [
        "pd.read_csv('Top_200_Movies_with_Lifetime_Gross.csv', lineterminator = '\\n', index_col = 0)"
      ]
    }
  ],
  "metadata": {
    "colab": {
      "collapsed_sections": [],
      "name": "Movie_Scraping.ipynb",
      "provenance": [],
      "toc_visible": true
    },
    "kernelspec": {
      "display_name": "Python 3",
      "name": "python3"
    },
    "language_info": {
      "name": "python"
    }
  },
  "nbformat": 4,
  "nbformat_minor": 0
}
